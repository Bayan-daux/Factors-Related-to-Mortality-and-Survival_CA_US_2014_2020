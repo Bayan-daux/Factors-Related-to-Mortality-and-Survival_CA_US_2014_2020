{
 "cells": [
  {
   "cell_type": "code",
   "execution_count": null,
   "metadata": {},
   "outputs": [],
   "source": [
    "#import libraries \n",
    "from matplotlib import pyplot as plt\n",
    "from pathlib import Path\n",
    "import pandas as pd\n",
    "import seaborn as sns\n",
    "from sklearn.preprocessing import StandardScaler"
   ]
  },
  {
   "cell_type": "code",
   "execution_count": null,
   "metadata": {},
   "outputs": [],
   "source": [
    "#reading the data in pandas\n",
    "df = pd.read_csv(Path('../Clean_datasets/Agg_Final_clean_table.csv'))\n",
    "df"
   ]
  },
  {
   "cell_type": "code",
   "execution_count": null,
   "metadata": {},
   "outputs": [],
   "source": [
    "#columns list\n",
    "df.columns "
   ]
  },
  {
   "cell_type": "code",
   "execution_count": null,
   "metadata": {},
   "outputs": [],
   "source": [
    "#keeping a reference DF for\n",
    "ref_df = df[['Age','age_cat']].copy()\n",
    "ref_df"
   ]
  },
  {
   "cell_type": "code",
   "execution_count": null,
   "metadata": {},
   "outputs": [],
   "source": [
    "#dropping the non numerical columns after creating coded columns\n",
    "df.drop(columns=['Description','County_of_Residence','Age'], inplace= True)\n",
    "df.head(25)"
   ]
  },
  {
   "cell_type": "code",
   "execution_count": null,
   "metadata": {},
   "outputs": [],
   "source": [
    "#grouping by the data by the age category and calculating the mean of the values\n",
    "df_mean = df.groupby('age_cat').mean()\n",
    "df_mean"
   ]
  },
  {
   "cell_type": "code",
   "execution_count": null,
   "metadata": {
    "scrolled": true
   },
   "outputs": [],
   "source": [
    "#Creating correlactiong heat map for age categories \n",
    "fig, ax = plt.subplots(figsize=(15,15))         \n",
    "sns.heatmap(df_mean, annot=True, linewidths=.5, cmap='RdBu', ax=ax, fmt='.0f', linewidth = 1)"
   ]
  },
  {
   "cell_type": "code",
   "execution_count": null,
   "metadata": {},
   "outputs": [],
   "source": [
    "#scaling the mean df\n",
    "scaled_mean = StandardScaler().fit_transform(df_mean)\n",
    "scaled_mean_df = pd.DataFrame(scaled_mean, columns=df_mean.columns)\n",
    "scaled_mean_df"
   ]
  },
  {
   "cell_type": "code",
   "execution_count": null,
   "metadata": {},
   "outputs": [],
   "source": [
    "#plotting for the scaled df\n",
    "fig, ax = plt.subplots(figsize=(15,15))         \n",
    "sns.heatmap(scaled_mean_df, annot=True, linewidths=.5, cmap='RdBu', ax=ax, linewidth = 1,center=0)"
   ]
  },
  {
   "cell_type": "code",
   "execution_count": null,
   "metadata": {},
   "outputs": [],
   "source": [
    "#grouping by age for median \n",
    "df_median = df.groupby('age_cat').median()\n",
    "df_median"
   ]
  },
  {
   "cell_type": "code",
   "execution_count": null,
   "metadata": {},
   "outputs": [],
   "source": [
    "#heatmap for median(looks the same as mean)\n",
    "fig, ax = plt.subplots(figsize=(15,15))         \n",
    "sns.heatmap(df_median, annot=True, linewidths=.5, cmap='RdBu', ax=ax, fmt='.0f', linewidth = 1)"
   ]
  },
  {
   "cell_type": "code",
   "execution_count": null,
   "metadata": {},
   "outputs": [],
   "source": [
    "#scaling the median df\n",
    "scaled_median = StandardScaler().fit_transform(df_mean)\n",
    "scaled_median_df = pd.DataFrame(scaled_median, columns=df_median.columns)\n",
    "scaled_median_df"
   ]
  },
  {
   "cell_type": "code",
   "execution_count": null,
   "metadata": {},
   "outputs": [],
   "source": [
    "#plotting for the scaled df\n",
    "fig, ax = plt.subplots(figsize=(15,15))         \n",
    "sns.heatmap(scaled_median_df, annot=True, linewidths=.5, cmap='RdBu', ax=ax, linewidth = 1,center=0)"
   ]
  },
  {
   "cell_type": "code",
   "execution_count": null,
   "metadata": {},
   "outputs": [],
   "source": [
    "#creating the correlation table for the original DF\n",
    "df.corr()"
   ]
  },
  {
   "cell_type": "code",
   "execution_count": null,
   "metadata": {},
   "outputs": [],
   "source": [
    "#creating heatmap for correlation matrix\n",
    "fig, ax = plt.subplots(figsize=(17,17))         \n",
    "sns.heatmap(df.corr(), annot=True, linewidths=.5, cmap='RdBu', ax=ax, linewidth = 1, center = 0)"
   ]
  },
  {
   "cell_type": "code",
   "execution_count": null,
   "metadata": {},
   "outputs": [],
   "source": [
    "#scalling the data \n",
    "scaled = StandardScaler().fit_transform(df)\n",
    "scaled_df = pd.DataFrame(scaled, columns=df.columns)\n",
    "scaled_df"
   ]
  },
  {
   "cell_type": "code",
   "execution_count": null,
   "metadata": {},
   "outputs": [],
   "source": [
    "#crating correlation for scaled data\n",
    "scaled_df.corr()"
   ]
  },
  {
   "cell_type": "code",
   "execution_count": null,
   "metadata": {},
   "outputs": [],
   "source": [
    "#plotting Heatmap for scaled table \n",
    "fig, ax = plt.subplots(figsize=(17,17))         \n",
    "sns.heatmap(scaled_df.corr(), annot=True, linewidths=.5, cmap='RdBu', ax=ax, linewidth = 1)\n"
   ]
  },
  {
   "cell_type": "code",
   "execution_count": null,
   "metadata": {},
   "outputs": [],
   "source": []
  }
 ],
 "metadata": {
  "kernelspec": {
   "display_name": "mlenv",
   "language": "python",
   "name": "mlenv"
  },
  "language_info": {
   "codemirror_mode": {
    "name": "ipython",
    "version": 3
   },
   "file_extension": ".py",
   "mimetype": "text/x-python",
   "name": "python",
   "nbconvert_exporter": "python",
   "pygments_lexer": "ipython3",
   "version": "3.9.0"
  }
 },
 "nbformat": 4,
 "nbformat_minor": 4
}
